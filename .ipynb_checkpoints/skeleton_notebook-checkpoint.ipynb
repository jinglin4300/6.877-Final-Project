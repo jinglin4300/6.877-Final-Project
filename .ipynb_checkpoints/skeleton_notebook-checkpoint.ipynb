{
 "cells": [
  {
   "cell_type": "markdown",
   "metadata": {},
   "source": [
    "# Skeleton Notebook:"
   ]
  },
  {
   "cell_type": "markdown",
   "metadata": {},
   "source": [
    "**Context**: After an important document from the Generic Space Empire (GSC) was stolen, Non-Copyrighted Alien spies began complex attacks against the prize of the GSC, the space station. These attacks are more complex than before, requiring a compromising of a combination of components, often distributed across workstations. In order to defend against these attacks, the GSC has hired our team to develop a methodology to characterize the faults found within the system after an attack. \n",
    "\n",
    "**Motivation**: Mode is a term for behavior of a system. All components in a system have behaviors associated with modes, as well as modes that are unknown to the component. Mode estimation takes in the mode, state, and observable variables and tries to determine a diagnoses for what is causing the outcome state of the system. Mode estimation is a very useful tool for characterizing what has occured in a system that could produce a given end state.  \n"
   ]
  },
  {
   "cell_type": "markdown",
   "metadata": {},
   "source": [
    "# Formulation"
   ]
  },
  {
   "cell_type": "markdown",
   "metadata": {},
   "source": [
    "Mode estimation will help us identify  possible diagnoses for the system, but we still need to develop a model and a search mechanism for mode estimation to be performed on. We will formulate this problem as a search problem, with a constraint satisfaction problem model, which is described in greater detail below.\n",
    "\n",
    "**Model**: To build our model, we plan to use a constraint satisfaction problem model. Constrain Satisfaction Models are used to describe real world problems. Our model will represent an input state, which is based off a set of variable assignments, and a list of conditions for a state to be a solution. These conditions will be defined by using a set of constraints on the aforementioned variables. \n",
    "\n",
    "For the sake of our problem, we will use a very simple CSP model, which will be trouble shooting circuits. For our model :\n",
    "\n",
    "**Input:**\n",
    "For each work station\n",
    " - number of circuits\n",
    " - nominal voltage required\n",
    " \n",
    " \n",
    " For the full fleet\n",
    " - number of workstations\n",
    " - total capacity \n",
    "\n",
    "**Output:** Determine for each work stage\n",
    " - voltage passed to system\n",
    "\n",
    "\n",
    "**Purpose:** Assess if the circuitboard is working properly for the workstation\n",
    "\n",
    "The function below will be used to develop a model based off this CSP. "
   ]
  },
  {
   "cell_type": "code",
   "execution_count": 5,
   "metadata": {},
   "outputs": [],
   "source": [
    "class model_generation():\n",
    "    \n",
    "    # CONSTRAINT Decision Variables\n",
    "    # will be used to define the conditions for a state to be a solution [i.e. passes a given needed voltage]\n",
    "    \n",
    "\n",
    "    # Variable \n",
    "    # what variables will be used to define each of the work stations\n",
    "    \n",
    "    # Domains\n",
    "    # possible assignments/values of each variable\n",
    "    \n",
    "    def __init__(self, variables, domains, constraints):\n",
    "        self.variables = variables\n",
    "        self.domains = domains\n",
    "        self.parents = parents # used to track parents for mode propagation\n",
    "        self.constraints = {}\n",
    "        for var in variables:\n",
    "            if var in constraints:\n",
    "                self.constraints[var] = constraints[var]\n",
    "            else:\n",
    "                self.constraints[var] = []\n",
    "    \n",
    "    def assign(self, var,val,assignment):\n",
    "        ## add {var:val} to assignmnet, override the old value if there was one\n",
    "        assingment{var}=val\n",
    "\n",
    "    \n",
    "    def add_constraint(self, constraint):\n",
    "        # add a constraint\n",
    "        pass\n",
    "    \n",
    "    def consistent(self, variables, assignments):\n",
    "        # given list of variables and their assignments\n",
    "        # check if they are consistant with all constraints\n",
    "        pass\n",
    "    \n",
    "    def search_assigment(self, assignments):\n",
    "        # Given an empty or paritial assignement\n",
    "        # try every possible assignment for each variable that does not violate constraints\n",
    "        # stop when we find one possible solution to the question \n",
    "        #     in such case, len(assigment) == len(self.variable)\n",
    "        # Or we searches through all combinations of assignments but no solution can be found, return None\n",
    "        \n",
    "        pass\n",
    "    \n",
    "    def satisfied(self, assignment):\n",
    "        # check if given assignment satisfies the question and is consistent with the constraint\n",
    "        # in other words, all variables are assigned to a value that not violate constraint\n",
    "        pass\n",
    "        \n",
    "        "
   ]
  },
  {
   "cell_type": "markdown",
   "metadata": {},
   "source": [
    "In order to diagnosis hidden failures in a model, it is vital to incorporate baseline reasoning for how the model will perform. Since we set up the model as a CSP, there is fundamental logic for how the different variables interact with each other. This logic is called a constraint. \n",
    "\n",
    "To determine hidden failures, the system must rely on two assumptions:\n",
    "- set of diagnoses should be complete\n",
    "- set of diagnoses should exploit all available information\n",
    "From these assumptions, the model must generate a list of candidates. \n",
    "\n",
    "\n",
    "The function below generates a list of combinations based off of all consistent unknown modes. A consistent mode is a mode that fulfills the logical constraints defined in the CSP. The function below describes the logic we plan to employ to identify all combinations of consistent unknown modes"
   ]
  },
  {
   "cell_type": "code",
   "execution_count": null,
   "metadata": {},
   "outputs": [],
   "source": [
    "def p_mode_estimate(modes):\n",
    "    # assume independence between modes and equal chance of observation given mode assignment\n",
    "    # find probabilies for all the modes given their corresponding observation (aka posteri)\n",
    "    \n",
    "    ## initializes the probability [depth = 0]\n",
    "    def prior_probability(mean,variance,input_val):\n",
    "    # calculate the probaiblity of the input value based on the mean variance of the distriubtion\n",
    "        return probs\n",
    "    \n",
    "    \n",
    "    ## propogates teh probability for more complex cases    \n",
    "    def calc_probability(prior_probability, input_state, path):\n",
    "        return current_prob_estimate\n",
    "    \n",
    "    \n",
    "    ## calculates the probability for all modes, and they will be ordered by most likely to least likely\n",
    "    return probability_set\n",
    "    \n",
    "        \n",
    "    \n"
   ]
  },
  {
   "cell_type": "markdown",
   "metadata": {},
   "source": [
    "Due to unknown modes, there can be an exponential number of mode estimates. When given a solution space of multiple possible diagnoses, then mode esitmation will help determine which set was the most likely to happen. To reasonable scale the solution space, mode estimation involves computing the probability of each mode estimate, and then enumerating based off the mostly likely candidates.\n",
    "\n",
    "However, mode estimation is only one part of the methodology to search and find the most likely diagnosis. The second aspect to being able to self-diagnosis is having a search algorithm to find states that the mode estimation can be performed on\n"
   ]
  },
  {
   "cell_type": "markdown",
   "metadata": {},
   "source": [
    "# Simple Search"
   ]
  },
  {
   "cell_type": "markdown",
   "metadata": {},
   "source": [
    "To start with diagnosing the system, our team will begin with a simple check of the model that looks for logical entailment. In this function, we would assume full knowledge and observability of the system. Then, we would search through the system to see if there was a clear cause that could be result in the error. For example, if work station 2 failed, and work station 2 is solely dependent on component A1, then component A1 would be the diagnosis for failure.In this method, we would be looking at the states of the system, to compare the state output with the end state output"
   ]
  },
  {
   "cell_type": "code",
   "execution_count": 6,
   "metadata": {},
   "outputs": [],
   "source": [
    "def logic_entail_check(symptom, model):\n",
    "    # given a set of symptoms within a model (aka the starting state)\n",
    "    # this function will find one (possible if there is many)? diagnosis that could correlate with symptoms\n",
    "    # if no clear answer is found, then the function will return an empty list\n",
    "    \n",
    "    # In other words, symptom now becomes our constraint, and the goal is to \n",
    "    # find possible assignment of each variable that is consistent with constraint\n",
    "    # i.e. component A1 should be assigned to 0 (to indicate malfunctioning) in final assignment\n",
    "    return diagnoses\n"
   ]
  },
  {
   "cell_type": "markdown",
   "metadata": {},
   "source": [
    "This method is a very simple search algorithm, and would be computationally expensive, and in the case where an unknown mode is reseponsible for the system outcome, would produce a non-optimal solution. To improve the fidelty of our search algorithm, our system will need to compare the constraints of the model. "
   ]
  },
  {
   "cell_type": "markdown",
   "metadata": {},
   "source": [
    "# Modeling Constraints"
   ]
  },
  {
   "cell_type": "markdown",
   "metadata": {},
   "source": [
    "A* is a best first search algorithm. With CBA*, A* is used to search over the decision variables. Decision varaibles are different from states, where states are only a partial assignment. A decision marks a transition from one to the next. An initial state has no assignment, and the goal state is a complete assignment with all the relevant decision variables. By searching only over the decision variables, we are able to skip decisions that logically dont make sense from the constraint in our model. Our code for CBA* is shown below"
   ]
  },
  {
   "cell_type": "code",
   "execution_count": null,
   "metadata": {},
   "outputs": [],
   "source": [
    "def cba_heuristic():\n",
    "    \n",
    "    queue=[]\n",
    "    expanded_list =[]\n",
    "    while queue !empty:\n",
    "        assignment=queue.pop() # get first value in queue\n",
    "        expanded_list.append(assignment)\n",
    "        \n",
    "        if assingmnet is full assignment to decision variables # potential goal\n",
    "            if consistent(assignmnet):\n",
    "                return assignment\n",
    "        else:\n",
    "            x_i=decision variable not in assigned in assignments\n",
    "            neighbors= split_on_variabe(assignment,x_i)\n",
    "            add each x_i in neighbors to queue if not in expanded_list\n",
    "            \n",
    "    \n",
    "    return no solution"
   ]
  },
  {
   "cell_type": "code",
   "execution_count": null,
   "metadata": {},
   "outputs": [],
   "source": [
    "def split_on_variable(assignment,x)\n",
    "#purpose choose our successor states as extensions of the current state by picking some of the varaibles\n",
    "# that have not yet been assignment\n",
    "    return [assignment U{x_i=d_j} for each d_j in x_i domain]"
   ]
  },
  {
   "cell_type": "code",
   "execution_count": null,
   "metadata": {},
   "outputs": [],
   "source": [
    "def consistent(assignment,goal):\n",
    "    \n",
    "    for each constraint in goal:\n",
    "        #searches over non-decision variables and checks constraints"
   ]
  },
  {
   "cell_type": "markdown",
   "metadata": {},
   "source": [
    "One of the drawbacks of CBA* is that is keeps searching over problematic areas of the state space. For example, even if one of the states at the higher depth levels contains a premise that is logically impossible, the children of that node will still be added to the queue and expanded. This creates additional expansions that are not needed. To address the issue of searching spaces that we don't need to, we can apply a pruning strategy to CBA* to imrpove the computational processing time.\n"
   ]
  },
  {
   "cell_type": "markdown",
   "metadata": {},
   "source": [
    "# Conflict-Directed A* Search "
   ]
  },
  {
   "cell_type": "markdown",
   "metadata": {},
   "source": [
    "Conflicts refer to a partial set of assignments to decision variables which cannot all be true at once. To identify a conflict, we modify the consistent function that was written above."
   ]
  },
  {
   "cell_type": "code",
   "execution_count": null,
   "metadata": {},
   "outputs": [],
   "source": [
    "def consistent_conflicts(assignment,gamma):\n",
    "    \n",
    "    \n",
    "    #is concsistent is a boolean, and conflict is the conflict\n",
    "    \n",
    "    # for each assignment ci, for ci in constitutent_kernel, if its self-consistent\n",
    "    return (is_consistent,conflict)"
   ]
  },
  {
   "cell_type": "markdown",
   "metadata": {},
   "source": [
    "Combining it all together, Conflict directed A* is shown in the algorithm below"
   ]
  },
  {
   "cell_type": "code",
   "execution_count": null,
   "metadata": {},
   "outputs": [],
   "source": [
    "def cda_start()\n",
    "    queue=[]\n",
    "    rho=[] # list of conflicts\n",
    "    expanded_list=[]\n",
    "    \n",
    "    while queue !empty:\n",
    "        assignment=queue.pop() ## takes first element from assignment\n",
    "        expanded_list.append(assignment)\n",
    "        if assignment is full assignment to decision:# (i.e. if assignment matches teh goal)\n",
    "            is_consistent, conflict = consistent(assignment)\n",
    "            if is_consistent:\n",
    "                return assignment\n",
    "            else\n",
    "                rho.add(conflict)\n",
    "                new_queue =search_queue_for_conflict(queue,conflict)\n",
    "        else:\n",
    "            if assignment fixes rho\n",
    "                xi=decision variable not assigned in assignment\n",
    "                neighbors=split_on_variable(assignment,xi)\n",
    "            else if assignment doesnt resolve conflict in rho:\n",
    "                neighbors = consistent conflicts(assignment,gamma)\n",
    "                for each in neighbors:\n",
    "                    if not in expanded_list:\n",
    "                        queue.add(each)\n",
    "                        \n",
    "    #if the code gets here, then its looked through everything but couldnt find it           \n",
    "    return no solution"
   ]
  },
  {
   "cell_type": "code",
   "execution_count": null,
   "metadata": {},
   "outputs": [],
   "source": [
    "def search_queue_for_conflict(queue,conflict)\n",
    "\n",
    "    return queue"
   ]
  },
  {
   "cell_type": "markdown",
   "metadata": {},
   "source": [
    "**Result:** The outcome of the CDA* search is the best possible diagnoses for what caused the system, based on what is defined as a consistent result. The CDA* search process is more computationally effective than alternatives like the former simple search or CBA*."
   ]
  }
 ],
 "metadata": {
  "kernelspec": {
   "display_name": "Python 3",
   "language": "python",
   "name": "python3"
  },
  "language_info": {
   "codemirror_mode": {
    "name": "ipython",
    "version": 3
   },
   "file_extension": ".py",
   "mimetype": "text/x-python",
   "name": "python",
   "nbconvert_exporter": "python",
   "pygments_lexer": "ipython3",
   "version": "3.7.3"
  }
 },
 "nbformat": 4,
 "nbformat_minor": 2
}
