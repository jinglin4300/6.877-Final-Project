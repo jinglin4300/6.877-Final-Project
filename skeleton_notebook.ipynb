{
 "cells": [
  {
   "cell_type": "markdown",
   "metadata": {},
   "source": [
    "# Skeleton Notebook:"
   ]
  },
  {
   "cell_type": "markdown",
   "metadata": {},
   "source": [
    "**Context**: After an important document from the Generic Space Empire (GSC) was stolen, Non-Copyrighted Alien spies began complex attacks against the prize of the GSC, the space station. These attacks are more complex than before, requiring a compromising of a combination of components, often distributed across workstations. In order to defend against these attacks, the GSC has hired our team to develop a methodology to characterize the faults found within the system after an attack. \n",
    "\n",
    "**Motivation**: Mode is a term for behavior of a system. All components in a system have behaviors associated with modes, as well as modes that are unknown to the component. Mode estimation takes in the mode, state, and observable variables and tries to determine a diagnoses for what is causing the outcome state of the system. Mode estimation is a very useful tool for characterizing what has occurred in a system that could produce a given end state. \n"
   ]
  },
  {
   "cell_type": "markdown",
   "metadata": {},
   "source": [
    "# Formulation"
   ]
  },
  {
   "cell_type": "markdown",
   "metadata": {},
   "source": [
    "Mode estimation will help us identify possible diagnoses for the system, but we still need to develop a model and a search mechanism for mode estimation to be performed on. We will formulate this problem as a search problem, with a constraint satisfaction problem model, which is described in greater detail below.\n",
    "\n",
    "**Model**: To build our model, we plan to use a constraint satisfaction problem model. Constrain Satisfaction Models are used to describe real world problems. Our model will represent an input state, which is based off a set of variable assignments, and a list of conditions for a state to be a solution. These conditions will be defined by using a set of constraints on the aforementioned variables. \n",
    "\n",
    "The constraints that we decide for our system will be vital in defining how the mode estimation will search for the required decisions, as well as how the search will be performed.\n",
    "\n",
    "For the sake of our problem, we will use a very simple CSP model, which will be trouble shooting circuits. For our model :\n",
    "\n",
    "**Input:**\n",
    "For each work station\n",
    " - number of circuits\n",
    " - nominal voltage required\n",
    " \n",
    " \n",
    " For the full fleet\n",
    " - number of workstations\n",
    " - total capacity \n",
    "\n",
    "**Output:** Determine for each work stage\n",
    " - voltage passed to system\n",
    " \n",
    "**Example Constraints:**\n",
    " - certain combinations of circuits will be constrained (for example two ground circuits cannot exist in the same loop, a ground circuit must be paired with a positive circuit). \n",
    " - red circuits cannot exist in the same grouping as blue circuits\n",
    "\n",
    "\n",
    "**Purpose:** Assess if the circuitboard is working properly for the workstation\n",
    "\n",
    "The function below will be used to develop a model based off this CSP. "
   ]
  },
  {
   "cell_type": "code",
   "execution_count": 1,
   "metadata": {},
   "outputs": [],
   "source": [
    "import CSP \n",
    "from CSP import *"
   ]
  },
  {
   "cell_type": "code",
   "execution_count": 2,
   "metadata": {},
   "outputs": [],
   "source": [
    "#Construct CSP problem\n",
    "## Input\n",
    "obs_input=1\n",
    "obs_output= 0\n",
    "\n",
    "#Valve by default are nominal and have domains Nominal, Sc, So\n",
    "#Valbe by default have input 1\n",
    "V1=Valve('V1', status='open', is_pyro=False,  )\n",
    "V2=Valve('V2', status='open',parent=[V1], is_pyro=True)\n",
    "V3=Valve('V3', status='close',is_pyro=False)\n",
    "V4=Valve('V4', status='close', parent=[V3], is_pyro=True)\n",
    "\n",
    "valves = [V1, V2, V3, V4]\n",
    "\n",
    "#Just hydrogen tank to regulator\n",
    "neighbors = {V1:[V2], V2:[V1, V4], V3:[V4], V4:[V3, V2]}\n",
    "\n",
    "#Constraints\n",
    "\n",
    "constraints= {'V1':[[V2.input == V1.output]],'V2':[[V2.input == V1.output],[V2.output==obs_output]],'V3':[[V3.output==V4.input]], 'V4': [[V4.input == V3.output],[V4.output==obs_output]]}\n",
    "domain={V1.name:V1.domain,V2.name: V2.domain, V3.name:V3.domain, V4.name:V4.domain}\n",
    "\n",
    "    \n",
    "rocket_engine = CSP(valves, domain, neighbors, constraints)\n"
   ]
  },
  {
   "cell_type": "markdown",
   "metadata": {},
   "source": [
    "## Simple Search"
   ]
  },
  {
   "cell_type": "code",
   "execution_count": null,
   "metadata": {},
   "outputs": [],
   "source": [
    "# pip install python-constraint\n",
    "\n",
    "# Model\n",
    "# divide into two smaller workstation with first workstation as helium tank to propellant tank (model 1)\n",
    "# and second as propellant tank to main engine (model 2)\n",
    "\n",
    "def and_gate(a, b):\n",
    "    return a and b\n",
    "\n",
    "def or_gate(a, b):\n",
    "    return a or b\n",
    "\n",
    "def not_gate(a):\n",
    "    return not a\n",
    "\n",
    "# model 1\n",
    "def model_helium_propellant(v1, v2, v3, v4, v5, v6, v7, v8, v9, v10, v11):\n",
    "    result1 = or_gate(and_gate(v1, v2), and_gate(v3, v4))\n",
    "    result2 = or_gate(and_gate(not_gate(v5), v6), not_gate(7))\n",
    "    result3 = and_gate(or_gate(v8, v9), or_gate(v10, v11))\n",
    "    return and_gate(and_gate(result1, result2), result3)\n",
    "\n",
    "def model_propellant_engine(v12, v13, v14, v15, v16, v17, v18, v19, v20, v22, v23, v24, v25, v26, v27):\n",
    "    result1 = and_gate(and_gate(v12, or_gate(v17, v16)), v24)\n",
    "    result2 = and_gate(and_gate(v13, or_gate(v18, v19)), v25)\n",
    "    result3 = and_gate(and_gate(v14, or_gate(v20, v21)), v26)\n",
    "    result4 = and_gate(and_gate(v15, or_gate(v22, v23)), v27)\n",
    "    return and_gate(and_gate(result1, result2), and_gate(result3, result4))"
   ]
  },
  {
   "cell_type": "code",
   "execution_count": 3,
   "metadata": {},
   "outputs": [
    {
     "ename": "TypeError",
     "evalue": "list indices must be integers or slices, not str",
     "output_type": "error",
     "traceback": [
      "\u001b[1;31m---------------------------------------------------------------------------\u001b[0m",
      "\u001b[1;31mTypeError\u001b[0m                                 Traceback (most recent call last)",
      "\u001b[1;32m<ipython-input-3-3bf908880c1b>\u001b[0m in \u001b[0;36m<module>\u001b[1;34m\u001b[0m\n\u001b[0;32m     24\u001b[0m \u001b[1;33m\u001b[0m\u001b[0m\n\u001b[0;32m     25\u001b[0m \u001b[1;33m\u001b[0m\u001b[0m\n\u001b[1;32m---> 26\u001b[1;33m \u001b[0mtest\u001b[0m\u001b[1;33m=\u001b[0m \u001b[0msimple_search\u001b[0m\u001b[1;33m(\u001b[0m\u001b[0mvalves\u001b[0m\u001b[1;33m,\u001b[0m\u001b[0mconstraints\u001b[0m\u001b[1;33m)\u001b[0m\u001b[1;33m\u001b[0m\u001b[1;33m\u001b[0m\u001b[0m\n\u001b[0m\u001b[0;32m     27\u001b[0m \u001b[0mprint\u001b[0m\u001b[1;33m(\u001b[0m\u001b[0mtest\u001b[0m\u001b[1;33m)\u001b[0m\u001b[1;33m\u001b[0m\u001b[1;33m\u001b[0m\u001b[0m\n\u001b[0;32m     28\u001b[0m \u001b[1;33m\u001b[0m\u001b[0m\n",
      "\u001b[1;32m<ipython-input-3-3bf908880c1b>\u001b[0m in \u001b[0;36msimple_search\u001b[1;34m(nodes, constraints)\u001b[0m\n\u001b[0;32m      7\u001b[0m     \u001b[1;32mwhile\u001b[0m \u001b[0mq\u001b[0m\u001b[1;33m:\u001b[0m\u001b[1;33m\u001b[0m\u001b[1;33m\u001b[0m\u001b[0m\n\u001b[0;32m      8\u001b[0m         \u001b[0mn\u001b[0m\u001b[1;33m=\u001b[0m\u001b[0mq\u001b[0m\u001b[1;33m[\u001b[0m\u001b[1;36m0\u001b[0m\u001b[1;33m]\u001b[0m\u001b[1;33m\u001b[0m\u001b[1;33m\u001b[0m\u001b[0m\n\u001b[1;32m----> 9\u001b[1;33m         \u001b[0mcons_list\u001b[0m \u001b[1;33m=\u001b[0m \u001b[0mconstraints\u001b[0m\u001b[1;33m[\u001b[0m\u001b[0mn\u001b[0m\u001b[1;33m.\u001b[0m\u001b[0mname\u001b[0m\u001b[1;33m]\u001b[0m\u001b[1;33m\u001b[0m\u001b[1;33m\u001b[0m\u001b[0m\n\u001b[0m\u001b[0;32m     10\u001b[0m         \u001b[0mflag\u001b[0m\u001b[1;33m=\u001b[0m\u001b[1;32mTrue\u001b[0m\u001b[1;33m\u001b[0m\u001b[1;33m\u001b[0m\u001b[0m\n\u001b[0;32m     11\u001b[0m         \u001b[1;32mfor\u001b[0m \u001b[0meach\u001b[0m \u001b[1;32min\u001b[0m \u001b[0mcons_list\u001b[0m\u001b[1;33m:\u001b[0m\u001b[1;33m\u001b[0m\u001b[1;33m\u001b[0m\u001b[0m\n",
      "\u001b[1;31mTypeError\u001b[0m: list indices must be integers or slices, not str"
     ]
    }
   ],
   "source": [
    "#def consistency_check(nameme):    \n",
    "    #return node.input==node.output and (node.parent).output == node.input\n",
    "\n",
    "def simple_search(nodes,constraints):\n",
    "    q= nodes;\n",
    "    while q:\n",
    "        n=q[0]\n",
    "        cons_list = constraints[n.name]\n",
    "        flag=True\n",
    "        for each in cons_list:\n",
    "            if each==False:\n",
    "                flag=False\n",
    "        constraint_comparison[n]= flag\n",
    "        q.pop(0)\n",
    "        \n",
    "    for each in constraint_comparison:\n",
    "        if constraint_comaprison[each]==False:\n",
    "            return 0\n",
    "        else:\n",
    "            final_dict[each.name]=each.mode\n",
    "            \n",
    "    return final_dict\n",
    "        \n",
    "\n",
    "test= simple_search(valves,constraints)           \n",
    "print(test)\n",
    "    \n",
    "    "
   ]
  },
  {
   "cell_type": "markdown",
   "metadata": {},
   "source": [
    "# Simple Search"
   ]
  },
  {
   "cell_type": "markdown",
   "metadata": {},
   "source": [
    "To start with diagnosing the system, our team will begin with a simple search of the model that looks for logical entailment. It should be noted that a logical entailment check does not involve probabilistic mode estimation. This check is merely to serve as a baseline for comparison between mode estimation and simple searching. In this function, we would assume full knowledge and observability of the system. Then, we would search through the system to see if there was a clear cause that could be result in the error. For example, if work station 2 failed, and work station 2 is solely dependent on component A1 which is the final leaf, then component A1 would be the diagnosis for failure. n this method, we would be looking at the states of the system, to compare the state output with the end state output.\n",
    "\n",
    "To achieve this, we treat the diagnosis problem as hypothesis testing. First, generate all candidate faults, given symptoms. Second, test if a given candidate account for all symptoms\n"
   ]
  },
  {
   "cell_type": "code",
   "execution_count": null,
   "metadata": {},
   "outputs": [],
   "source": [
    "def candidates(symptom, model)\n",
    "    # this function generate candidate faults for a given symptom \n",
    "    # by identifying which componets in the model are connected where\n",
    "    # the fault took places\n",
    "    \n",
    "    # return a set of components \n",
    "    return candidates_set\n",
    "\n",
    "def testing(symptom, candidate, model)\n",
    "    # this function test to see if the candidate component's fault models \n",
    "    # predict observations\n",
    "    \n",
    "    # return true or false\n",
    "    return boolean\n",
    "\n",
    "\n",
    "def abductive_diagnosis(symptom, model):\n",
    "    # given a set of symptoms within a model (aka the starting state)\n",
    "    # this function will find one (possible if there is many)? diagnosis that could correlate with symptoms\n",
    "    # if no clear answer is found, then the function will return an empty list\n",
    "    \n",
    "    candidates_set = candidates(symptom, model)\n",
    "    \n",
    "    for candidate in candidates_set:\n",
    "        if testing(symptom, candidate, model):\n",
    "            diagonses += candidate\n",
    "    \n",
    "    return diagnoses\n"
   ]
  },
  {
   "cell_type": "markdown",
   "metadata": {},
   "source": [
    "The above approach only works if there are exhaustive fault models and only good for single component faults. For unknown or multiple faults, we need to take a more sophisticated approach by defining modes of failure rather than just individual components.\n",
    "To determine hidden failures, the system must rely on two assumptions:\n",
    " - set of diagnoses should be complete\n",
    " - set of diagnoses should exploit all available information From these assumptions, the model must generate a list of candidates. \n",
    "\n",
    "The modes_diagnosis function below takes a brute force approach by randomly assigning mode values to each component then test to see if that assignment is consistent with the observation. The expected number of candidates will be 2^n(not including failure mode) and 4^n(if including two failure modes) where n is the number of components.\n"
   ]
  },
  {
   "cell_type": "code",
   "execution_count": null,
   "metadata": {},
   "outputs": [],
   "source": [
    "def consistent(symptom, candidate, model)\n",
    "    # this function test to see if a candidate, i.e. set of mode asisgnment\n",
    "    # is consistent with the symptom\n",
    "    \n",
    "    # return true or false\n",
    "    return boolean\n",
    "\n",
    "def modes_diagnosis(symptom, model, inputs):\n",
    "    # essentially search_assignment_bruteforce function\n",
    "    # this function generate all assignments of modes that are consistent \n",
    "    # with observation\n",
    "    \n",
    "    for component in model:\n",
    "        # component is assigned G for good and U for unknown\n",
    "        # components can also be assigned failures modes such as S1, always \n",
    "        # true, or S2, always false\n",
    "        # assemble into a test_diagnosis\n",
    "    if consistent(test_diagnosis):\n",
    "        # add to set of diagnosis\n",
    "    \n",
    "    return diagnosis"
   ]
  },
  {
   "cell_type": "markdown",
   "metadata": {},
   "source": [
    "This method is a very simple search algorithm, and would be computationally expensive, and in the case where an unknown mode is responsible for the system outcome, would produce a non-optimal solution. To improve the fidelity of our search algorithm, our system will need to compare the constraints of the model. "
   ]
  },
  {
   "cell_type": "markdown",
   "metadata": {},
   "source": [
    "# Probabilistic Mode estimation"
   ]
  },
  {
   "cell_type": "markdown",
   "metadata": {},
   "source": [
    "Once the simple search has been established as a baseline for comparison, the team will focus on developing the mode estimation function. The mode estimation function works by relying on prior probability to determine future likelihood.\n",
    "\n",
    "\n",
    "The modes in the simple search function were assigned at random. The number of modes estimates that can be tested is exponential due to the unknown mode. Of those estimates, the number of satisfiable diagnosis could be large as well. The problem only gets worse when failure modes are included in the search. If we have a priori distribution of possible failure modes for the components, then we can develop an approximation of most of the probability mass by a few mode estimates. \n",
    "The function below covers the methodology that we will take to determine mode estimation for a given leaf node."
   ]
  },
  {
   "cell_type": "code",
   "execution_count": null,
   "metadata": {},
   "outputs": [],
   "source": [
    "def prior_probability(model, probs):\n",
    "    # assign prior probabilities to component modes, so now our model incorporates a priori \n",
    "    # failure modes probabilities\n",
    "    for component in model:\n",
    "        for mode in modes:\n",
    "            comp[mode][prob] = probs[mode]\n",
    "\n",
    "def p_mode_estimate(observations, model, modes):\n",
    "    # assume independence between modes and equal chance of observation given mode assignment\n",
    "    # find probabilies for all the modes given their corresponding observation (aka posteri)\n",
    "    \n",
    "    # assume consistent interpreations are equally likely \n",
    "\n",
    "    # model counting using DPLL\n",
    "    \n",
    "    return probability_set\n",
    "    \n",
    "        "
   ]
  },
  {
   "cell_type": "markdown",
   "metadata": {},
   "source": [
    "# Optimal CSP formulation"
   ]
  },
  {
   "cell_type": "markdown",
   "metadata": {},
   "source": [
    "In the consistency-based diagnosis formulation above we approached the diagnostic problem by:\n",
    "- defining a model consisting of components(functions with set inputs and outputs) and system structure(definition of how outputs of an component is connected to the input of another)\n",
    "- defining a diagnostic problem as a triple of model, observations, and inputs\n",
    "- generate candidate mode assignments for all components, and check to see if those assignment  are consistent with the observation\n",
    "- Consistency is defined as a state that satisfies all     constraints\n",
    " \n",
    "We can take a different approach by representing each component as a constraint, whose variables are the relevant quantities in the component description, as well as a variable to represent its mode. For example an AND gate could represented as the following constraint:\n",
    "\n",
    "- {<good, 1st input 1, 2nd input 1, output 1>,<good, 1st input 1, 2nd input 0, output 0>,<good, 1st input 0, 2nd input 1, output 0>,<good, 1st input 0, 2nd input 0, output 0>,<s1, 1st input 1, 2nd input 1, output 1>,<s1, 1st input 1, 2nd input 0, output 1>,<s1, 1st input 0, 2nd input 1, output 1>,<s1, 1st input 0, 2nd input 0, output 1>,<s0, 1st input 1, 2nd input 1, output 0>,<s0, 1st input 1, 2nd input 0, output 0>,<s0, 1st input 0, 2nd input 1, output 0>,<s0, 1st input 0, 2nd input 0, output 0>,<unknown, 1st input 0 or 1, 2nd input 0 or 1, output 0 or 1>}\n",
    "\n",
    "After specifying the constraints, we can specify the system structures as another set of constraints, such as the output of component A1 must equal to the first input of component X1.\n",
    "In this formulation, we could come up with a utility function f(x) and a heuristics h(x) for each component constraint x.  With f and h, we can generate candidate in best-first order, then check consistency of a particular candidate X with value assignment of state variables Y."
   ]
  },
  {
   "cell_type": "markdown",
   "metadata": {},
   "source": [
    "# Constraint-Based A* Search"
   ]
  },
  {
   "cell_type": "markdown",
   "metadata": {},
   "source": [
    "The above section discussed the logic to identifying a consistent solution, and what constraints are. Furthermore, we have laid out how we plan to utilize mode estimation to identify solutions. From here, we can apply a more robust search algorithm to find the optimal solution. \n",
    "\n",
    "A* is a best first search algorithm. With CBA*, A* is used to search over the decision variables. In our problem, decision varaibles are the components in the system, where the decision is what mode we assign to that component. An initial state has no assignment, and the goal state is a complete assignment of modes to all components. After full assignment of decision variables, we need to check to see if that is consistent with the state variables, i.e. the inputs and observations. \n",
    "With A* we need to identify the functions for f(x)=g(x)+h(x). g(x)could be product of probabilities of decision variables already assigned, while h(x) could be the highest-possible product of each of the remaining unassigned variables. h(x) thus defined is an admissible heurestic because it overestimate the probability. Luckily, we have the probability functions from the previous section to assist with this calculation. \n",
    "Our code for CBA* is shown below"
   ]
  },
  {
   "cell_type": "code",
   "execution_count": null,
   "metadata": {},
   "outputs": [],
   "source": [
    "def constraint_based_A_star(f, model):\n",
    "    # f is utility function described above, used for heuristic measurement \n",
    "    \n",
    "    queue=[]\n",
    "    expanded =set()\n",
    "    while len(queue) > 0:\n",
    "        assignment=queue.pop() # get first value in queue\n",
    "        expanded.add(assignment)\n",
    "        \n",
    "        # check if assignment is full assignment to decision variable\n",
    "        if model.full_assignment(assignment): # potential goal\n",
    "            if model.consistent(assignmnet):\n",
    "                return assignment\n",
    "        else:\n",
    "            x_i = model.find_nonassigned_variables()\n",
    "            neighbors= split_on_variable(assignment,x_i)\n",
    "            # add each x_k in neighbors to queue if not in expanded\n",
    "            for nbr in neighbors:\n",
    "                if nbr not in expanded:\n",
    "                    queue.append(nbr)\n",
    "            \n",
    "    # get here, expanded all possibilities but no solution\n",
    "    return None"
   ]
  },
  {
   "cell_type": "code",
   "execution_count": null,
   "metadata": {},
   "outputs": [],
   "source": [
    "def split_on_variable(assignment,x_i):\n",
    "#purpose choose our successor states as extensions of the current state by picking some of the varaibles\n",
    "# that have not yet been assignment\n",
    "    return [union(assignmnet, d_j, x_i) for d_j in x_i]"
   ]
  },
  {
   "cell_type": "code",
   "execution_count": null,
   "metadata": {},
   "outputs": [],
   "source": [
    "def consistent(assignment,goal):\n",
    "    \n",
    "    for constraint in goal:\n",
    "        #searches over non-decision variables and checks constraints\n",
    "        pass"
   ]
  },
  {
   "cell_type": "code",
   "execution_count": null,
   "metadata": {},
   "outputs": [],
   "source": [
    "def union(assignment, d_j, x_i):\n",
    "    return (assignment, x_i[d_j])"
   ]
  },
  {
   "cell_type": "markdown",
   "metadata": {},
   "source": [
    "One of the drawbacks of CBA* is that is keeps searching over problematic areas of the state space. For example, even if one of the states at the higher depth levels contains a premise that is logically impossible, the children of that node will still be added to the queue and expanded. This creates additional expansions that are not needed. To address the issue of searching spaces that we don't need to, we can apply a pruning strategy to CBA* to imrpove the computational processing time.\n",
    "\n",
    "This improvement is only possible if we can detect an inconsistency after a full assignment. The consistency function we have only return a boolean and need to be modified to also return which component assignments caused a conflict. \n",
    "\n",
    "Suppose a conflict involves several components being assigned impossible values, we can use De Morgan's law to convert the conflict into a constituent kernel: a chain or statement involving  values that are not allowed for various components. \n",
    "\n",
    "Now, we can run a CBA* with a mechanism to detect conflict.  We store each detected conflict in a list.  For each conflict in the list, we remove from the search queue any new assignment that will manifest that conflict. This approach is referred to as Conflicted-Directed A* Search (CDA*)."
   ]
  },
  {
   "cell_type": "markdown",
   "metadata": {},
   "source": [
    "# Conflict-Directed A* Search "
   ]
  },
  {
   "cell_type": "markdown",
   "metadata": {},
   "source": [
    "Conflicts refer to a partial set of assignments to decision variables which cannot all be true at once. To identify a conflict, we modify the consistent function that was written above."
   ]
  },
  {
   "cell_type": "code",
   "execution_count": null,
   "metadata": {},
   "outputs": [],
   "source": [
    "def split_on_conflicts(assignment, conflict):\n",
    "    \n",
    "    \n",
    "    #is consistent is a boolean, and conflict is the conflict\n",
    "    \n",
    "    # for each assignment ci, for ci in constitutent_kernel, if its self-consistent\n",
    "    return (assignment,conflict)"
   ]
  },
  {
   "cell_type": "markdown",
   "metadata": {},
   "source": [
    "Combining our prior definitions of consistency, our new definition of conflict, and a mode estimation heuristic, CDA* is shown in the algorithm below. It is expected that this search method will produce the same result as CBA*, but with less computational time required."
   ]
  },
  {
   "cell_type": "code",
   "execution_count": null,
   "metadata": {},
   "outputs": [],
   "source": [
    "def cda_star()\n",
    "    queue=[{}]\n",
    "    rho=[] # list of conflicts\n",
    "    expanded=set()\n",
    "    \n",
    "    while len(queue)>0:\n",
    "        assignment=queue.pop() ## takes first element from assignment\n",
    "        expanded.add(assignment)\n",
    "        # potential goal\n",
    "        if model.full_assignment(assignment):# (i.e. if assignment matches the goal)\n",
    "            is_consistent, conflict = consistent(assignment)\n",
    "            if is_consistent:\n",
    "                return assignment\n",
    "            else\n",
    "                rho.add(conflict)\n",
    "                search_queue_for_conflict(queue,conflict)\n",
    "        else: # partial assignment to decision variables\n",
    "            if all_conflict_resolved:\n",
    "                # some decision variable not assigned in assignment\n",
    "                xi=model.find_nonassigned_variables()\n",
    "                neighbors=split_on_variable(assignment,xi)\n",
    "            conflict_unresolved = some_conflict_resolved(assignment, rho)\n",
    "            # some conflict is not resolved\n",
    "            if conflict_unresolved is not None:\n",
    "                neighbors = split_on_conflicts(assignment,conflict_unresolved)\n",
    "                for each in neighbors:\n",
    "                    if not in expanded_list:\n",
    "                        queue.add(each)\n",
    "                        \n",
    "    #if the code gets here, then its looked through everything but couldnt find it           \n",
    "    return no solution"
   ]
  },
  {
   "cell_type": "code",
   "execution_count": null,
   "metadata": {},
   "outputs": [],
   "source": [
    "def search_queue_for_conflict(queue,conflict):\n",
    "    # remove anything from Q that manifests conflict\n",
    "\n",
    "    return queue"
   ]
  },
  {
   "cell_type": "code",
   "execution_count": null,
   "metadata": {},
   "outputs": [],
   "source": [
    "def all_conflict_resolved(assignment, rho):\n",
    "    # check if assigment resolves all conflicts in rho\n",
    "    return True"
   ]
  },
  {
   "cell_type": "code",
   "execution_count": null,
   "metadata": {},
   "outputs": [],
   "source": [
    "def some_conflict_resolved(assignment, rho):\n",
    "    # check if assignmnet resolves some conflicts in rho\n",
    "    # find one unresolved conflict\n",
    "    return conflict_unresolved"
   ]
  },
  {
   "cell_type": "markdown",
   "metadata": {},
   "source": [
    "**Evaluation:** To evaluate performance of algorithms discusssed above, we can look into run time complexity and space complexity by keep track of number of nodes expanded and maximum size queue. We can see that simple search (brute force) is most computationaly expensive, next is Constraint-based A* search, and best is Conflict-Directed A* Search as it uses pruning to avoid repeatedly exploring states that all won't work for the same reason, aka conflict. \n",
    "\n",
    "**Expected Result**: An optimal solution after searching through the CSP to find which mode is most likely."
   ]
  },
  {
   "cell_type": "code",
   "execution_count": null,
   "metadata": {},
   "outputs": [],
   "source": []
  }
 ],
 "metadata": {
  "kernelspec": {
   "display_name": "Python 3",
   "language": "python",
   "name": "python3"
  },
  "language_info": {
   "codemirror_mode": {
    "name": "ipython",
    "version": 3
   },
   "file_extension": ".py",
   "mimetype": "text/x-python",
   "name": "python",
   "nbconvert_exporter": "python",
   "pygments_lexer": "ipython3",
   "version": "3.7.3"
  }
 },
 "nbformat": 4,
 "nbformat_minor": 2
}
