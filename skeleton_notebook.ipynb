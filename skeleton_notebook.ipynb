{
 "cells": [
  {
   "cell_type": "markdown",
   "metadata": {},
   "source": [
    "# Skeleton Notebook:"
   ]
  },
  {
   "cell_type": "markdown",
   "metadata": {},
   "source": [
    "**Context**: After an important document from the Generic Space Empire (GSC) was stolen, Non-Copyrighted Alien spies began complex attacks against the prize of the GSC, the space station. These attacks are more complex than before, requiring a compromising of a combination of components, often distributed across workstations. In order to defend against these attacks, the GSC has hired our team to develop a methodology to characterize the faults found within the system after an attack. \n"
   ]
  },
  {
   "cell_type": "markdown",
   "metadata": {},
   "source": [
    "**Model**: To build our model, we plan to use a constraint satisfaction problem model. Constrain Satisfaction Models are used to describe real world problems. Our model will represent an input state, which is based off a set of variable assignments, and a list of conditions for a state to be a solution. These conditions will be defined by using a set of constraints on the aforementioned variables. \n",
    "\n",
    "For the sake of our problem, we will use a very simple CSP model, which will be trouble shooting circuits. For our model :\n",
    "\n",
    "**Input:**\n",
    "For each work station\n",
    " - number of circuits\n",
    " - nominal voltage required\n",
    " \n",
    " \n",
    " For the full fleet\n",
    " - number of workstations\n",
    " - total capacity \n",
    "\n",
    "**Output:** Determine for each work stage\n",
    " - voltage passed to system\n",
    "\n",
    "\n",
    "**Purpose:** Assess if the circuitboard is working properly for the workstation\n",
    "\n",
    "The function below will be used to develop a model based off this CSP. "
   ]
  },
  {
   "cell_type": "code",
   "execution_count": 5,
   "metadata": {},
   "outputs": [],
   "source": [
    "class model_generation():\n",
    "    \n",
    "    # CONSTRAINT Decision Variables\n",
    "    # will be used to define the conditions for a state to be a solution [i.e. passes a given needed voltage]\n",
    "    \n",
    "\n",
    "    # Variable \n",
    "    # what variables will be used to define each of the work stations\n",
    "    \n",
    "    # Domains\n",
    "    # possible assignments/values of each variable\n",
    "    \n",
    "    def __init__(self, variables, domains, constraints):\n",
    "        self.variables = variables\n",
    "        self.domains = domains\n",
    "        self.parents = parents # used to track parents for mode propagation\n",
    "        self.constraints = {}\n",
    "        for var in variables:\n",
    "            if var in constraints:\n",
    "                self.constraints[var] = constraints[var]\n",
    "            else:\n",
    "                self.constraints[var] = []\n",
    "    \n",
    "    def assign(self, var,val,assignment):\n",
    "        ## add {var:val} to assignmnet, override the old value if there was one\n",
    "        assingment{var}=val\n",
    "\n",
    "    \n",
    "    def add_constraint(self, constraint):\n",
    "        # add a constraint\n",
    "        pass\n",
    "    \n",
    "    def consistent(self, variables, assignments):\n",
    "        # given list of variables and their assignments\n",
    "        # check if they are consistant with all constraints\n",
    "        pass\n",
    "    \n",
    "    def search_assigment(self, assignments):\n",
    "        # Given an empty or paritial assignement\n",
    "        # try every possible assignment for each variable that does not violate constraints\n",
    "        # stop when we find one possible solution to the question \n",
    "        #     in such case, len(assigment) == len(self.variable)\n",
    "        # Or we searches through all combinations of assignments but no solution can be found, return None\n",
    "        \n",
    "        pass\n",
    "    \n",
    "    def satisfied(self, assignment):\n",
    "        # check if given assignment satisfies the question and is consistent with the constraint\n",
    "        # in other words, all variables are assigned to a value that not violate constraint\n",
    "        pass\n",
    "        \n",
    "        "
   ]
  },
  {
   "cell_type": "markdown",
   "metadata": {},
   "source": [
    "# Consistency-Based Diagnosis"
   ]
  },
  {
   "cell_type": "markdown",
   "metadata": {},
   "source": [
    "To start with diagnosing the system, our team will begin with a simple check of the model that looks for logical entailment. In this function, we would assume full knowledge and observability of the system. Then, we would search through the system to see if there was a clear cause that could be result in the error. For example, if work station 2 failed, and work station 2 is solely dependent on component A1, then component A1 would be the diagnosis for failure. "
   ]
  },
  {
   "cell_type": "code",
   "execution_count": 6,
   "metadata": {},
   "outputs": [],
   "source": [
    "def logic_entail_check(symptom, model):\n",
    "    # given a set of symptoms within a model (aka the starting state)\n",
    "    # this function will find one (possible if there is many)? diagnosis that could correlate with symptoms\n",
    "    # if no clear answer is found, then the function will return an empty list\n",
    "    \n",
    "    # In other words, symptom now becomes our constraint, and the goal is to \n",
    "    # find possible assignment of each variable that is consistent with constraint\n",
    "    # i.e. component A1 should be assigned to 0 (to indicate malfunctioning) in final assignment\n",
    "    return diagnoses\n"
   ]
  },
  {
   "cell_type": "markdown",
   "metadata": {},
   "source": [
    "In order to diagnosis hidden failures in a model, it is vital to incorporate baseline reasoning for how the model will perform. Since we set up the model as a CSP, there is fundamental logic for how the different variables interact with each other.\n",
    "\n",
    "To determine hidden failures, the system must rely on two assumptions:\n",
    "- set of diagnoses should be complete\n",
    "- set of diagnoses should exploit all available information\n",
    "\n",
    "From these assumptions, the model must generate a list of candidates. The function below generates a list of combinations based off of all consistent unknown modes. A consistent mode is a mode that fulfills the logical requirements defined in the CSP. The function below describes the logic we plan to employ to identify all combinations of consistent unknown modes. "
   ]
  },
  {
   "cell_type": "code",
   "execution_count": null,
   "metadata": {},
   "outputs": [],
   "source": [
    "def candidate_generation(symptoms, model):    \n",
    "    \n",
    "    \n",
    "    # the function will return a list of nominal, fault, and unkown modes\n",
    "    # nominal failure --> one of the parts blatantly fails and we have knowledge of the state\n",
    "    # fault failure --> partially explained, we have knowledge of the states that the failed part is near \n",
    "    # unknown modes --> The fault has been isolated but is unexplained. \n",
    "        # This refers to the case where the part is acting improperly, but we don't have observability, \n",
    "        # or the node could be returning the right number but may not be working properly and cannot be traced through the other nodes\n",
    "\n",
    "    return consistent_combos"
   ]
  },
  {
   "cell_type": "markdown",
   "metadata": {},
   "source": [
    "After the list of modes have been determined, then we will use mode estimation to determine which modes are the most likely. To determine the probabilistic mode estimation, we need:\n",
    "  -  Mode\n",
    "  - State\n",
    "  - Observation variables\n",
    "  - Model\n",
    "  - Prior distribution\n",
    "  - Observation function\n",
    "  \n",
    " The list of modes will be obtained through the candidate generation. The state is the list of symptoms defined in the model to start with. The observation variables are also defined in the CSP, to help constrain each of the components. The model is the CSP itself. Calculating the prior distribution and observation function is a little more complex. The function below is a function we plan to write as a simple approximation for probabilistic mode estimation.\n",
    " "
   ]
  },
  {
   "cell_type": "code",
   "execution_count": 7,
   "metadata": {},
   "outputs": [],
   "source": [
    "def p_mode_estimate(modes):\n",
    "    # assume independence between modes and equal chance of observation given mode assignment\n",
    "    # find probabilies for all the modes given their corresponding observation (aka posteri)\n",
    "    \n",
    "    ## initializes the probability [depth = 0]\n",
    "    def prior_probability(mean,variance,input_val):\n",
    "    # calculate the probaiblity of the input value based on the mean variance of the distriubtion\n",
    "        return probs\n",
    "    \n",
    "    \n",
    "    ## propogates teh probability for more complex cases    \n",
    "    def calc_probability(prior_probability, input_state, path):\n",
    "        return current_prob_estimate\n",
    "    \n",
    "    \n",
    "    ## calculates the probability for all modes, and they will be ordered by most likely to least likely\n",
    "    return probability_set\n",
    "    \n",
    "        \n",
    "    \n"
   ]
  },
  {
   "cell_type": "markdown",
   "metadata": {},
   "source": [
    "Due to unknown modes, there can be an exponential number of mode estimates. When given a solution space of multiple possible diagnoses, then mode esitmation will help determine which set was the most likely to happen. To reasonable scale the solution space, mode estimation involves computing the probability of each mode estimate, and then enumerating based off the mostly likely candidates.\n",
    "\n",
    "However, mode estimation is only one part of the methodology to search and find the most likely diagnosis. If only mode estimation is used, then the program will have to incrementally search the entire tree and order the results by the most likely cases. To search the tree, we use a methodology called Constraint-Based A* (CBA*). \n",
    "\n",
    "A* is a best first search algorithm. With CBA*, A* is used to search over the decision variables. Decision varaibles are different from states, where states are only a partial assignment. A decision marks a transition from one to the next. An initial state has no assignment, and the goal state is a complete assignment with all the relevant decision variables. By searching only over the decision variables, we are able to skip decisions that logically dont make sense from the constraint in our model. Our code for CBA* is shown below"
   ]
  },
  {
   "cell_type": "code",
   "execution_count": null,
   "metadata": {},
   "outputs": [],
   "source": [
    "def cba_heuristic():\n",
    "    \n",
    "    queue=[]\n",
    "    expanded_list =[]\n",
    "    while queue !empty:\n",
    "        assignment=queue.pop() # get first value in queue\n",
    "        expanded_list.append(assignment)\n",
    "        \n",
    "        if assingmnet is full assignment to decision variables # potential goal\n",
    "            if consistent(assignmnet):\n",
    "                return assignment\n",
    "        else:\n",
    "            x_i=decision variable not in assigned in assignments\n",
    "            neighbors= split_on_variabe(assignment,x_i)\n",
    "            add each x_i in neighbors to queue if not in expanded_list\n",
    "            \n",
    "    \n",
    "    return no solution"
   ]
  },
  {
   "cell_type": "code",
   "execution_count": null,
   "metadata": {},
   "outputs": [],
   "source": [
    "def split_on_variable(assignment,x)\n",
    "#purpose choose our successor states as extensions of the current state by picking some of the varaibles\n",
    "# that have not yet been assignment\n",
    "    return [assignment U{x_i=d_j} for each d_j in x_i domain]"
   ]
  },
  {
   "cell_type": "code",
   "execution_count": null,
   "metadata": {},
   "outputs": [],
   "source": [
    "def consistent(assignment,goal):\n",
    "    \n",
    "    for each constraint in goal:\n",
    "        #searches over non-decision variables and checks constraints"
   ]
  },
  {
   "cell_type": "markdown",
   "metadata": {},
   "source": [
    "One of the drawbacks of CBA* is that is keeps searching over problematic areas of the state space. For example, even if one of the states at the higher depth levels contains a premise that is logically impossible, the children of that node will still be added to the queue and expanded. This creates additional expansions that are not needed. To address the issue of searching spaces that we don't need to, we can apply a pruning strategy to CBA* to imrpove the computational processing time.\n"
   ]
  },
  {
   "cell_type": "markdown",
   "metadata": {},
   "source": [
    "Conflicts refer to a partial set of assignments to decision variables which cannot all be true at once. To identify a conflict, we modify the consistent function that was written above."
   ]
  },
  {
   "cell_type": "code",
   "execution_count": null,
   "metadata": {},
   "outputs": [],
   "source": [
    "def consistent_conflicts(assignment):\n",
    "    \n",
    "    \n",
    "    #is concsistent is a boolean, and conflict is the conflict\n",
    "    return (is_consistent,conflict)"
   ]
  },
  {
   "cell_type": "markdown",
   "metadata": {},
   "source": []
  },
  {
   "cell_type": "markdown",
   "metadata": {},
   "source": [
    "# Motivation\n"
   ]
  },
  {
   "cell_type": "markdown",
   "metadata": {},
   "source": [
    "The premise behind mode estimation is selecting a most likely set of next component modes that are consistent with the model and past observations. Conflict Directed A* combines mode estimation and diagnosis with optimal search (A*). In A*, a heuristic is used to enumerate solutions by which is the best first. In contrast, mode estimation uses conflicts to prune large numbers of inconsistent interpretations. With CDA*, the A* search will prune sections of the three that are logicially inconsistent.\n",
    "\n",
    "The typical heuristic for mode estimation is reffered to as CanGen. CanGen will enumerate a prior probability, which is bounded. If the variable is unassigned, we bound with its max prior. \n",
    "\n"
   ]
  },
  {
   "cell_type": "markdown",
   "metadata": {},
   "source": [
    "# Formulation"
   ]
  },
  {
   "cell_type": "markdown",
   "metadata": {},
   "source": [
    "Can Gen enumeration using CBA* search starts with an initial state, and then expands the child. Upon selecting the child, there is an unassigned variable xi. Each child adds an assignment from Di. Then, queue needs to be pruned. "
   ]
  },
  {
   "cell_type": "markdown",
   "metadata": {},
   "source": [
    "# Simple Search"
   ]
  },
  {
   "cell_type": "markdown",
   "metadata": {},
   "source": [
    "We first tried a simple search algorithm (brute force) to solve it, but it is computationally expensive."
   ]
  },
  {
   "cell_type": "markdown",
   "metadata": {},
   "source": [
    "# Modeling Constraints"
   ]
  },
  {
   "cell_type": "code",
   "execution_count": null,
   "metadata": {},
   "outputs": [],
   "source": []
  },
  {
   "cell_type": "markdown",
   "metadata": {},
   "source": [
    "# Conflict Directed Search"
   ]
  },
  {
   "cell_type": "code",
   "execution_count": null,
   "metadata": {},
   "outputs": [],
   "source": []
  },
  {
   "cell_type": "markdown",
   "metadata": {},
   "source": [
    "# Result"
   ]
  }
 ],
 "metadata": {
  "kernelspec": {
   "display_name": "Python 3",
   "language": "python",
   "name": "python3"
  },
  "language_info": {
   "codemirror_mode": {
    "name": "ipython",
    "version": 3
   },
   "file_extension": ".py",
   "mimetype": "text/x-python",
   "name": "python",
   "nbconvert_exporter": "python",
   "pygments_lexer": "ipython3",
   "version": "3.7.3"
  }
 },
 "nbformat": 4,
 "nbformat_minor": 2
}
