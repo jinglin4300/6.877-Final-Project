{
 "cells": [
  {
   "cell_type": "markdown",
   "metadata": {},
   "source": [
    "# Skeleton Notebook:"
   ]
  },
  {
   "cell_type": "markdown",
   "metadata": {},
   "source": [
    "Meeting time:\n",
    "    - Oct 5 (Sat) at 3 pm\n",
    "    \n"
   ]
  },
  {
   "cell_type": "markdown",
   "metadata": {},
   "source": [
    "**Context**: After an important document from the Generic Space Empire (GSC) was stolen, Non-Copyrighted Alien spies began complex attacks against the prize of the GSC, the space station. These attacks are more complex than before, requiring a compromising of a combination of components, often distributed across workstations. In order to defend against these attacks, the GSC has hired our team to develop a methodology to characterize the faults found within the system after an attack. \n"
   ]
  },
  {
   "cell_type": "markdown",
   "metadata": {},
   "source": [
    "**Model**: A workstation can be model as a troubleshooting circuits. This model should take normal range of inputs and produce desired output\n"
   ]
  },
  {
   "cell_type": "code",
   "execution_count": null,
   "metadata": {},
   "outputs": [],
   "source": [
    "class model_generation(inputs, branches, output):\n",
    "    ## Describe all possible inputs, branches, and output\n",
    "    ## \n",
    "    ## "
   ]
  },
  {
   "cell_type": "markdown",
   "metadata": {},
   "source": [
    "# Consistency-Based Diagnosis"
   ]
  },
  {
   "cell_type": "code",
   "execution_count": null,
   "metadata": {},
   "outputs": [],
   "source": [
    "def candidate_generation(symptoms, model):\n",
    "    ### This code is based off of abductive diagnosis\n",
    "    ## given the symptoms of the model\n",
    "    ## determine what type of error is expected from a list of known errors\n",
    "    ## if the component is okay, the fault model will not predict any observations\n",
    "## okayness will be measured with a boolean\n",
    "    \n",
    "    return diagnoses, okayness"
   ]
  },
  {
   "cell_type": "markdown",
   "metadata": {},
   "source": [
    "In order to diagnosis hidden fialures in a model, it is vital to incorporate baseline reasoning for how the model will perform. To do this, we will employ a Diagnosis by Hypothesis Testing method. The premise behind this method is that the system should generate a solution space of candidates, given symptoms, and then test if the candidates account for all symptoms.The Hypothesis method is based on two assumptions\n",
    "\n",
    "- set of diagnoses should be complete\n",
    "- set of diagnoses should exploit all available information\n",
    "\n",
    "The tricky part of diagnosing is that the solution must predict both known failures and unknown failures. To predict known failures, our code will use the function below:\n",
    "\n"
   ]
  },
  {
   "cell_type": "markdown",
   "metadata": {},
   "source": [
    "Handling unknown failures is more difficult, and requires reverse engineering. Given a set of symptoms, the function aims to find possible diagnoses that are consistent with symptoms. To truly explore the possible tradespace, the model should make no presumptions about the causes of faulty component behavior. "
   ]
  },
  {
   "cell_type": "code",
   "execution_count": null,
   "metadata": {},
   "outputs": [],
   "source": [
    "def possible_cause(symptoms, model):\n",
    "    #This function takes symptom as input and and finds \n",
    "    #candidate causes and their associated probability\n",
    "    #output is a dictionary of probability indexed with cause\n",
    "    return causes\n",
    "\n",
    "def cause_probability(symtoms, model, mode)\n",
    "    #This function calculate the probability of a symptom\n",
    "    #give the mode of failure and underlying model\n",
    "    #output is a number\n",
    "    return probability"
   ]
  },
  {
   "cell_type": "markdown",
   "metadata": {},
   "source": [
    "Another issue when expanding the solution space to find unknown faults is the chance of multiple faults occuring.The recommended solution is to identify all combinations of consistent unknown modes."
   ]
  },
  {
   "cell_type": "code",
   "execution_count": null,
   "metadata": {},
   "outputs": [],
   "source": [
    "## Mode Estimation"
   ]
  },
  {
   "cell_type": "markdown",
   "metadata": {},
   "source": [
    "Due to unknown modes, there can be an exponential number of mode estimates. When given a solution space of multiple possible diagnoses, then mode esitmation will help determine which set was the most likely to happen. To reasonable scale the solution space, mode estimation involves computing the probability of each mode estimate, and then enumerating based off the mostly likely candidates."
   ]
  },
  {
   "cell_type": "code",
   "execution_count": null,
   "metadata": {},
   "outputs": [],
   "source": [
    "def mode_estimate():\n",
    "    ### computes probability of each mode estimate"
   ]
  }
 ],
 "metadata": {
  "kernelspec": {
   "display_name": "Python 3",
   "language": "python",
   "name": "python3"
  },
  "language_info": {
   "codemirror_mode": {
    "name": "ipython",
    "version": 3
   },
   "file_extension": ".py",
   "mimetype": "text/x-python",
   "name": "python",
   "nbconvert_exporter": "python",
   "pygments_lexer": "ipython3",
   "version": "3.7.1"
  }
 },
 "nbformat": 4,
 "nbformat_minor": 2
}
