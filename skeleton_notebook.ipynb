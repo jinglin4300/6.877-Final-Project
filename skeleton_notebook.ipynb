{
 "cells": [
  {
   "cell_type": "markdown",
   "metadata": {},
   "source": [
    "# Skeleton Notebook:"
   ]
  },
  {
   "cell_type": "markdown",
   "metadata": {},
   "source": [
    "**Context**: After an important document from the Generic Space Empire (GSC) was stolen, Non-Copyrighted Alien spies began complex attacks against the prize of the GSC, the space station. These attacks are more complex than before, requiring a compromising of a combination of components, often distributed across workstations. In order to defend against these attacks, the GSC has hired our team to develop a methodology to characterize the faults found within the system after an attack. \n"
   ]
  },
  {
   "cell_type": "markdown",
   "metadata": {},
   "source": [
    "**Model**: To build our model, we plan to use a constraint satisfaction problem model. Constrain Satisfaction Models are used to describe real world problems. Our model will represent an input state, which is based off a set of variable assignments, and a list of conditions for a state to be a solution. These conditions will be defined by using a set of constraints on the aforementioned variables. \n",
    "\n",
    "For the sake of our problem, we will use a very simple CSP model, which will be trouble shooting circuits. For our model :\n",
    "\n",
    "**Input:**\n",
    "For each work station\n",
    " - number of circuits\n",
    " - nominal voltage required\n",
    " \n",
    " \n",
    " For the full fleet\n",
    " - number of workstations\n",
    " - total capacity \n",
    "\n",
    "**Output:** Determine for each work stage\n",
    " - voltage passed to system\n",
    "\n",
    "\n",
    "**Purpose:** Assess if the circuitboard is working properly for the workstation\n",
    "\n",
    "The function below will be used to develop a model based off this CSP. "
   ]
  },
  {
   "cell_type": "code",
   "execution_count": null,
   "metadata": {},
   "outputs": [],
   "source": [
    "class model_generation\n",
    "\n",
    "### CONSTRAINT Decision Variables\n",
    "### will be used to define the conditions for a state to be a solution [i.e. passes a given needed voltage]\n",
    "\n",
    "### Variable Assigment \n",
    "##### what variables will be used to define each of the work stations\n"
   ]
  },
  {
   "cell_type": "markdown",
   "metadata": {},
   "source": [
    "# Consistency-Based Diagnosis"
   ]
  },
  {
   "cell_type": "markdown",
   "metadata": {},
   "source": [
    "To start with diagnosing the system, our team will begin with a simple check of the model that looks for logical entailment. In this function, we would assume full knowledge and observability of the system. Then, we would search through the system to see if there was a clear cause that could be result in the error. For example, if work station 2 failed, and work station 2 is solely dependent on component A1, then component A1 would be the diagnosis for failure. "
   ]
  },
  {
   "cell_type": "code",
   "execution_count": null,
   "metadata": {},
   "outputs": [],
   "source": [
    "def logic_entail_check(symptom,model)\n",
    "### given a set of symptoms with in a model (aka the starting state)\n",
    "## function will find a diagnosis that could correlate with symptoms\n",
    "# if no clear answer is found, then the function will return an empty list\n"
   ]
  },
  {
   "cell_type": "markdown",
   "metadata": {},
   "source": [
    "In order to diagnosis hidden failures in a model, it is vital to incorporate baseline reasoning for how the model will perform. Since we set up the model as a CSP, there is fundamental logic for how the different variables interact with each other.\n",
    "\n",
    "To determine hidden failures, the system must rely on two assumptions:\n",
    "- set of diagnoses should be complete\n",
    "- set of diagnoses should exploit all available information\n",
    "\n",
    "From these assumptions, the model must generate a list of candidates. The function below generates a list of combinations based off of all consistent unknown modes. A consistent mode is a mode that fulfills the logical requirements defined in the CSP. The function below describes the logic we plan to employ to identify all combinations of consistent unknown modes. "
   ]
  },
  {
   "cell_type": "code",
   "execution_count": null,
   "metadata": {},
   "outputs": [],
   "source": [
    "def candidate_generation(symptoms, model):    \n",
    "    \n",
    "    \n",
    "    ### this list will return a list of nominal, fault, and unkown modes\n",
    "    ## nominal failure --> one of the parts blatantly fails and we have knowledge of the state\n",
    "    ## fault failure --> partially explained, we have knowledge of the states that the failed part is near \n",
    "   ### unknown modes --> The faut has been isolated but is unexplained. \n",
    "        ##This refers to the case where the part is acting improperly, but we don't have observability, \n",
    "        ##or the node could be returning the right number but may not be working properly and cannot be tracaed through the other nodes\n",
    "\n",
    "    return consistent_combos"
   ]
  },
  {
   "cell_type": "markdown",
   "metadata": {},
   "source": [
    "After the list of modes have been determined, then we will use mode estimation to determine which modes are the most likely. To determine the probabilistic mode estimation, we need:\n",
    "  -  Mode\n",
    "  - State\n",
    "  - Observation variables\n",
    "  - Model\n",
    "  - Prior distribution\n",
    "  - Observation function\n",
    "  \n",
    " The list of modes will be obtained through the candidate generation. The state is the list of symptoms defined in the model to start with. The observation variables are also defined in the CSP, to help constrain each of the components. The model is the CSP itself. Calculating the prior distribution and observation function is a little more complex. The function below is a function we plan to write as a simple approximation for probabilistic mode estimation.\n",
    " "
   ]
  },
  {
   "cell_type": "code",
   "execution_count": null,
   "metadata": {},
   "outputs": [],
   "source": [
    "def p_mode_estimate()"
   ]
  },
  {
   "cell_type": "markdown",
   "metadata": {},
   "source": [
    "Due to unknown modes, there can be an exponential number of mode estimates. When given a solution space of multiple possible diagnoses, then mode esitmation will help determine which set was the most likely to happen. To reasonable scale the solution space, mode estimation involves computing the probability of each mode estimate, and then enumerating based off the mostly likely candidates."
   ]
  }
 ],
 "metadata": {
  "kernelspec": {
   "display_name": "Python 3",
   "language": "python",
   "name": "python3"
  },
  "language_info": {
   "codemirror_mode": {
    "name": "ipython",
    "version": 3
   },
   "file_extension": ".py",
   "mimetype": "text/x-python",
   "name": "python",
   "nbconvert_exporter": "python",
   "pygments_lexer": "ipython3",
   "version": "3.7.3"
  }
 },
 "nbformat": 4,
 "nbformat_minor": 2
}
